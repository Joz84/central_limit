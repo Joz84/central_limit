{
 "cells": [
  {
   "cell_type": "markdown",
   "id": "accurate-hostel",
   "metadata": {},
   "source": [
    "# Longueur des planches de skateboard"
   ]
  },
  {
   "cell_type": "code",
   "execution_count": 2,
   "id": "reasonable-opera",
   "metadata": {},
   "outputs": [],
   "source": [
    "import numpy as np\n",
    "import matplotlib.pyplot as plt\n",
    "from scipy.stats import norm"
   ]
  },
  {
   "cell_type": "markdown",
   "id": "loaded-dutch",
   "metadata": {},
   "source": [
    "## Le dataset "
   ]
  },
  {
   "cell_type": "markdown",
   "id": "oriental-fraction",
   "metadata": {},
   "source": [
    "Imaginons que nous arrivions à mesurer la longueurs de toutes les planches de skate de bordeaux. Cela représenterai 10 000 mesures. Pour les besion de l'exercice simulons ce dataset:"
   ]
  },
  {
   "cell_type": "code",
   "execution_count": 23,
   "id": "unlikely-density",
   "metadata": {
    "scrolled": true
   },
   "outputs": [
    {
     "data": {
      "image/png": "[encoded data removed]",
      "text/plain": [
       "<Figure size 432x288 with 1 Axes>"
      ]
     },
     "metadata": {
      "needs_background": "light"
     },
     "output_type": "display_data"
    }
   ],
   "source": [
    "# Générer un dataset aléatoire de mesures de longueurs de planches\n",
    "data1 = np.random.normal(75, 10, 7000)  # skateboard\n",
    "data2 = np.random.normal(115, 20, 3000) # longboard\n",
    "data = np.concatenate((data1,data2))\n",
    "plt.hist(data, bins=100, density=True, alpha=0.6, color='b');"
   ]
  },
  {
   "cell_type": "markdown",
   "id": "forced-colony",
   "metadata": {},
   "source": [
    "## Les grandeurs statistiques de la population totale"
   ]
  },
  {
   "cell_type": "markdown",
   "id": "greenhouse-rehabilitation",
   "metadata": {},
   "source": [
    "Définir \n",
    "- N : La taille de la population\n",
    "- mean_tot : la moyenne de la population totale\n",
    "- std_tot : l'écart type de la population totale"
   ]
  },
  {
   "cell_type": "code",
   "execution_count": 6,
   "id": "dynamic-draft",
   "metadata": {},
   "outputs": [],
   "source": [
    "# Your code"
   ]
  },
  {
   "cell_type": "markdown",
   "id": "sustainable-floor",
   "metadata": {},
   "source": [
    "## Les grandeurs statistiques de échantillon \"Darwin\""
   ]
  },
  {
   "cell_type": "markdown",
   "id": "original-imperial",
   "metadata": {},
   "source": [
    "Nous nous interessons maintenant uniquement un échantillon de cette population : Les skateboards du skatepark de Darwin afin de voir si nous pouvons extrapoler des informations sur la population globale. Encore une fois nous allons simuler cet échantillon pour les besoin de l'exercice."
   ]
  },
  {
   "cell_type": "code",
   "execution_count": 31,
   "id": "electronic-threshold",
   "metadata": {},
   "outputs": [
    {
     "data": {
      "image/png": "[encoded data removed]",
      "text/plain": [
       "<Figure size 432x288 with 1 Axes>"
      ]
     },
     "metadata": {
      "needs_background": "light"
     },
     "output_type": "display_data"
    }
   ],
   "source": [
    "n = 500\n",
    "sample = np.random.choice(data, n, replace=True)\n",
    "plt.hist(sample, bins=50, density=True, alpha=0.6, color='b');"
   ]
  },
  {
   "cell_type": "markdown",
   "id": "secondary-square",
   "metadata": {},
   "source": [
    "Définir \n",
    "- N : La taille de la population\n",
    "- mean_sample_500 : la moyenne de cet échantillon\n",
    "- std_sample_500 : l'écart type de cet échantillon"
   ]
  },
  {
   "cell_type": "code",
   "execution_count": 36,
   "id": "average-collective",
   "metadata": {},
   "outputs": [],
   "source": [
    "# Your code"
   ]
  },
  {
   "cell_type": "markdown",
   "id": "basic-consultation",
   "metadata": {},
   "source": [
    "Cet échantillon a t'il des grandeurs statistiques proches de la population globale?"
   ]
  },
  {
   "cell_type": "markdown",
   "id": "generous-emphasis",
   "metadata": {},
   "source": [
    "### La longueur moyenne estimée des planches de skateboard"
   ]
  },
  {
   "cell_type": "markdown",
   "id": "white-retirement",
   "metadata": {},
   "source": [
    "Imaginons que nous n'ayons pas à notre disposition la population totale.\n",
    "Donner la valeur moyenne des planches de skateboard estimée à partir de l'échantillon précédent. Donner une incertitude avec un intervalle de confiance à 99,7%. Pour ce faire vous aurez besoin de calculer la standard error que nous appelerons \"ste_sample_500\"."
   ]
  },
  {
   "cell_type": "code",
   "execution_count": 25,
   "id": "binary-edition",
   "metadata": {},
   "outputs": [],
   "source": [
    "# votre code"
   ]
  },
  {
   "cell_type": "markdown",
   "id": "liquid-madrid",
   "metadata": {},
   "source": [
    "La valeur réelle de la moyenne est elle bien en accord avec estimation? "
   ]
  },
  {
   "cell_type": "code",
   "execution_count": null,
   "id": "occupied-technical",
   "metadata": {},
   "outputs": [],
   "source": [
    "# Votre reponse"
   ]
  },
  {
   "cell_type": "markdown",
   "id": "annual-favor",
   "metadata": {},
   "source": [
    "## Les grandeurs statistiques de échantillon \"Les quais\""
   ]
  },
  {
   "cell_type": "markdown",
   "id": "subject-boulder",
   "metadata": {},
   "source": [
    "Nous nous interessons maintenant uniquement un autre échantillon de cette population : Les skateboards du skatepark des quais afin de voir, encore une fois si nous pouvons extrapoler des informations sur la population globale. Encore une fois nous allons simuler cet échantillon pour les besoin de l'exercice."
   ]
  },
  {
   "cell_type": "code",
   "execution_count": 32,
   "id": "based-borough",
   "metadata": {
    "scrolled": true
   },
   "outputs": [
    {
     "data": {
      "image/png": "[encoded data removed]",
      "text/plain": [
       "<Figure size 432x288 with 1 Axes>"
      ]
     },
     "metadata": {
      "needs_background": "light"
     },
     "output_type": "display_data"
    }
   ],
   "source": [
    "n = 50\n",
    "sample = np.random.choice(data, n, replace=True)\n",
    "plt.hist(sample, bins=15, density=True, alpha=0.6, color='b');"
   ]
  },
  {
   "cell_type": "markdown",
   "id": "level-asbestos",
   "metadata": {},
   "source": [
    "Encore une fois, imaginons que nous n'ayons pas à notre disposition la population totale.\n",
    "Donner la valeur moyenne des planches de skateboard estimée à partir de l'échantillon précédent. Donner une incertitude avec un intervalle de confiance à 99,7%. Pour ce faire vous aurez besoin de calculer la standard error que nous appelerons \"ste_sample_50\"."
   ]
  },
  {
   "cell_type": "code",
   "execution_count": null,
   "id": "cloudy-saturn",
   "metadata": {},
   "outputs": [],
   "source": [
    "# votre code"
   ]
  },
  {
   "cell_type": "markdown",
   "id": "dietary-richards",
   "metadata": {},
   "source": [
    "La valeur réelle de la moyenne est elle bien en accord avec estimation? \n",
    "Si oui quelle est la meilleur estimation de la moyenne totale: l'estimation issues de l'échantillon de Darwin ou de celui des quais ? Pourquoi?"
   ]
  },
  {
   "cell_type": "code",
   "execution_count": null,
   "id": "static-fitness",
   "metadata": {},
   "outputs": [],
   "source": [
    "# votre réponse"
   ]
  },
  {
   "cell_type": "markdown",
   "id": "promotional-mapping",
   "metadata": {},
   "source": [
    "## Evolution de la standard error en fonction de la taille de l'échantillon"
   ]
  },
  {
   "cell_type": "markdown",
   "id": "illegal-reason",
   "metadata": {},
   "source": [
    "Dans cette partie nous allons illustrer comment varie la l'erreur standard en fonction de la taille de l'échantillon"
   ]
  },
  {
   "cell_type": "markdown",
   "id": "sealed-racing",
   "metadata": {},
   "source": [
    "Prenons 1000 échantillons indépendants. Chaque échantillon contient n = 500 mesures. Pour chacun de ces échantillons, calculons la moyenne de l'échantillon. Nous stockons toutes ces moyennes dans une liste \"means\" :"
   ]
  },
  {
   "cell_type": "code",
   "execution_count": 35,
   "id": "scientific-portsmouth",
   "metadata": {},
   "outputs": [],
   "source": [
    "n = 500\n",
    "means = []\n",
    "for i in range(1000):\n",
    "    sample = np.random.choice(data, n, replace=True)\n",
    "    means.append(sample.mean())"
   ]
  },
  {
   "cell_type": "markdown",
   "id": "connected-stocks",
   "metadata": {},
   "source": [
    "Visualiser la distribution de cette population de moyennes avec un histogramme"
   ]
  },
  {
   "cell_type": "code",
   "execution_count": 34,
   "id": "blind-direction",
   "metadata": {},
   "outputs": [],
   "source": [
    "# votre code"
   ]
  },
  {
   "cell_type": "markdown",
   "id": "incorporated-logistics",
   "metadata": {},
   "source": [
    "Calculer la moyenne et l'écart type de cette population de moyennes que nous appelerons respectivement \"mean_est_500\" et \"ste_est_500\"."
   ]
  },
  {
   "cell_type": "code",
   "execution_count": null,
   "id": "received-sharing",
   "metadata": {},
   "outputs": [],
   "source": [
    "# votre code"
   ]
  },
  {
   "cell_type": "markdown",
   "id": "fiscal-track",
   "metadata": {},
   "source": [
    "Comparer les valeurs (\"mean_sample_500\", \"ste_sample_500\") et (\"mean_est_500\" et \"ste_est_500\")"
   ]
  },
  {
   "cell_type": "code",
   "execution_count": null,
   "id": "bound-centre",
   "metadata": {},
   "outputs": [],
   "source": [
    "# votre réponse"
   ]
  },
  {
   "cell_type": "markdown",
   "id": "forward-staff",
   "metadata": {},
   "source": [
    "Répéter l'opération avec un n=50 :"
   ]
  },
  {
   "cell_type": "code",
   "execution_count": 37,
   "id": "integral-sequence",
   "metadata": {},
   "outputs": [],
   "source": [
    "n = 50\n",
    "means = []\n",
    "for i in range(1000):\n",
    "    sample = np.random.choice(data, n, replace=True)\n",
    "    means.append(sample.mean())"
   ]
  },
  {
   "cell_type": "markdown",
   "id": "given-anatomy",
   "metadata": {},
   "source": [
    "Calculer la moyenne et l'écart type de cette population de moyennes que nous appelerons respectivement \"mean_est_50\" et \"ste_est_50\"."
   ]
  },
  {
   "cell_type": "code",
   "execution_count": null,
   "id": "sublime-collins",
   "metadata": {},
   "outputs": [],
   "source": [
    "# votre réponse"
   ]
  },
  {
   "cell_type": "markdown",
   "id": "fallen-width",
   "metadata": {},
   "source": [
    "Comparer les valeurs (\"mean_sample_50\", \"ste_sample_50\") et (\"mean_est_50\" et \"ste_est_50\")"
   ]
  },
  {
   "cell_type": "code",
   "execution_count": null,
   "id": "former-terry",
   "metadata": {},
   "outputs": [],
   "source": [
    "# votre réponse"
   ]
  },
  {
   "cell_type": "markdown",
   "id": "behind-group",
   "metadata": {},
   "source": [
    "## Evolution de la standar error en fonction de la taille de l'échantillon (optionnel)"
   ]
  },
  {
   "cell_type": "markdown",
   "id": "burning-roulette",
   "metadata": {},
   "source": [
    "Nous constatons l'incertitude (et donc la ste) de notre estimation varie avec la taille n de l'échantillon. Et nous avons vu qu'il exite deux manière de retrouver cette ste (la méthode \"$sample$\" et la méthode \"$est$\")."
   ]
  },
  {
   "cell_type": "markdown",
   "id": "behavioral-chess",
   "metadata": {},
   "source": [
    "Définisser la ste_est et la ste_sample pour chaque valeur n de la liste suivante :"
   ]
  },
  {
   "cell_type": "code",
   "execution_count": 47,
   "id": "mature-maldives",
   "metadata": {},
   "outputs": [],
   "source": [
    "sample_lens = np.arange(50, 500, 1)"
   ]
  },
  {
   "cell_type": "code",
   "execution_count": null,
   "id": "humanitarian-hawaiian",
   "metadata": {},
   "outputs": [],
   "source": [
    "# votre code"
   ]
  },
  {
   "cell_type": "markdown",
   "id": "civic-airplane",
   "metadata": {},
   "source": [
    "En tracant ces $ste$ en fonction des $n$ précédants vous devriez trouver le résultat suivant :"
   ]
  },
  {
   "cell_type": "markdown",
   "id": "entertaining-berry",
   "metadata": {},
   "source": [
    "<img src=\"ste_func_n.png\">"
   ]
  },
  {
   "cell_type": "markdown",
   "id": "settled-barrel",
   "metadata": {},
   "source": [
    "Pour quelle valeur de $n$ trouve t'on une $ste = 1.5 cm$ (et donc une $incertitude = \\pm 3cm $ avec in intervalle de confiance de 95%)?"
   ]
  },
  {
   "cell_type": "code",
   "execution_count": null,
   "id": "former-nicholas",
   "metadata": {},
   "outputs": [],
   "source": []
  }
 ],
 "metadata": {
  "kernelspec": {
   "display_name": "Python 3",
   "language": "python",
   "name": "python3"
  },
  "language_info": {
   "codemirror_mode": {
    "name": "ipython",
    "version": 3
   },
   "file_extension": ".py",
   "mimetype": "text/x-python",
   "name": "python",
   "nbconvert_exporter": "python",
   "pygments_lexer": "ipython3",
   "version": "3.8.6"
  },
  "toc": {
   "base_numbering": 1,
   "nav_menu": {},
   "number_sections": true,
   "sideBar": true,
   "skip_h1_title": false,
   "title_cell": "Table of Contents",
   "title_sidebar": "Contents",
   "toc_cell": false,
   "toc_position": {},
   "toc_section_display": true,
   "toc_window_display": false
  }
 },
 "nbformat": 4,
 "nbformat_minor": 5
}
