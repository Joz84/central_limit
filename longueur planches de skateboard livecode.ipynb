{
 "cells": [
  {
   "cell_type": "markdown",
   "id": "accurate-hostel",
   "metadata": {},
   "source": [
    "# Longueur des planches de skateboard"
   ]
  },
  {
   "cell_type": "code",
   "execution_count": 138,
   "id": "reasonable-opera",
   "metadata": {},
   "outputs": [],
   "source": [
    "import numpy as np\n",
    "import matplotlib.pyplot as plt\n",
    "from scipy.stats import norm"
   ]
  },
  {
   "cell_type": "markdown",
   "id": "loaded-dutch",
   "metadata": {},
   "source": [
    "## Le dataset "
   ]
  },
  {
   "cell_type": "markdown",
   "id": "oriental-fraction",
   "metadata": {},
   "source": [
    "Imaginons que nous arrivions à mesurer la longueur de toutes les planches de skateboard de bordeaux. Cela représenterai 10 000 mesures. Pour les besoin de l'exercice simulons ce dataset:"
   ]
  },
  {
   "cell_type": "code",
   "execution_count": 139,
   "id": "unlikely-density",
   "metadata": {
    "scrolled": true
   },
   "outputs": [
    {
     "data": {
      "image/png": "[encoded data removed]",
      "text/plain": [
       "<Figure size 432x288 with 1 Axes>"
      ]
     },
     "metadata": {
      "needs_background": "light"
     },
     "output_type": "display_data"
    }
   ],
   "source": [
    "# Générer un dataset aléatoire de mesures de longueurs de planches\n",
    "data1 = np.random.normal(75, 10, 7000)  # skateboard\n",
    "data2 = np.random.normal(115, 20, 3000) # longboard\n",
    "data = np.concatenate((data1,data2))\n",
    "plt.hist(data, bins=100, density=True, alpha=0.6, color='b');"
   ]
  },
  {
   "cell_type": "markdown",
   "id": "forced-colony",
   "metadata": {},
   "source": [
    "## Les grandeurs statistiques de la population totale"
   ]
  },
  {
   "cell_type": "markdown",
   "id": "greenhouse-rehabilitation",
   "metadata": {},
   "source": [
    "Définir \n",
    "- N : La taille de la population\n",
    "- mean_tot : la moyenne de la population totale\n",
    "- std_tot : l'écart type de la population totale"
   ]
  },
  {
   "cell_type": "code",
   "execution_count": 140,
   "id": "dynamic-draft",
   "metadata": {},
   "outputs": [
    {
     "data": {
      "text/plain": [
       "10000"
      ]
     },
     "execution_count": 140,
     "metadata": {},
     "output_type": "execute_result"
    }
   ],
   "source": [
    "N = len(data)\n",
    "N"
   ]
  },
  {
   "cell_type": "code",
   "execution_count": 141,
   "id": "integral-details",
   "metadata": {},
   "outputs": [
    {
     "data": {
      "text/plain": [
       "86.94258444890247"
      ]
     },
     "execution_count": 141,
     "metadata": {},
     "output_type": "execute_result"
    }
   ],
   "source": [
    "mean_tot = data.mean()\n",
    "mean_tot"
   ]
  },
  {
   "cell_type": "code",
   "execution_count": 142,
   "id": "covered-trauma",
   "metadata": {},
   "outputs": [
    {
     "data": {
      "text/plain": [
       "23.07212806154484"
      ]
     },
     "execution_count": 142,
     "metadata": {},
     "output_type": "execute_result"
    }
   ],
   "source": [
    "std_tot = data.std()\n",
    "std_tot"
   ]
  },
  {
   "cell_type": "markdown",
   "id": "sustainable-floor",
   "metadata": {},
   "source": [
    "## Les grandeurs statistiques de échantillon \"Darwin\""
   ]
  },
  {
   "cell_type": "markdown",
   "id": "original-imperial",
   "metadata": {},
   "source": [
    "Nous nous interessons maintenant uniquement à un échantillon de cette population : Les skateboards du skatepark de Darwin afin de voir si nous pouvons extrapoler des informations sur la population globale. Encore une fois nous allons simuler cet échantillon pour les besoins de l'exercice."
   ]
  },
  {
   "cell_type": "code",
   "execution_count": 143,
   "id": "electronic-threshold",
   "metadata": {},
   "outputs": [
    {
     "data": {
      "image/png": "[encoded data removed]",
      "text/plain": [
       "<Figure size 432x288 with 1 Axes>"
      ]
     },
     "metadata": {
      "needs_background": "light"
     },
     "output_type": "display_data"
    }
   ],
   "source": [
    "n = 500\n",
    "sample = np.random.choice(data, n, replace=True)\n",
    "plt.hist(sample, bins=50, density=True, alpha=0.6, color='b');"
   ]
  },
  {
   "cell_type": "markdown",
   "id": "secondary-square",
   "metadata": {},
   "source": [
    "Définir \n",
    "- N : La taille de la population\n",
    "- mean_sample_500 : la moyenne de cet échantillon\n",
    "- std_sample_500 : l'écart type de cet échantillon"
   ]
  },
  {
   "cell_type": "code",
   "execution_count": 144,
   "id": "average-collective",
   "metadata": {},
   "outputs": [
    {
     "data": {
      "text/plain": [
       "500"
      ]
     },
     "execution_count": 144,
     "metadata": {},
     "output_type": "execute_result"
    }
   ],
   "source": [
    "N = len(sample)\n",
    "N"
   ]
  },
  {
   "cell_type": "code",
   "execution_count": 145,
   "id": "mature-chassis",
   "metadata": {},
   "outputs": [
    {
     "data": {
      "text/plain": [
       "87.93660178681452"
      ]
     },
     "execution_count": 145,
     "metadata": {},
     "output_type": "execute_result"
    }
   ],
   "source": [
    "mean_sample_500 = sample.mean()\n",
    "mean_sample_500"
   ]
  },
  {
   "cell_type": "code",
   "execution_count": 146,
   "id": "labeled-exercise",
   "metadata": {},
   "outputs": [
    {
     "data": {
      "text/plain": [
       "24.044975011132937"
      ]
     },
     "execution_count": 146,
     "metadata": {},
     "output_type": "execute_result"
    }
   ],
   "source": [
    "std_sample_500 = sample.std()\n",
    "std_sample_500"
   ]
  },
  {
   "cell_type": "markdown",
   "id": "basic-consultation",
   "metadata": {},
   "source": [
    "Cet échantillon a t'il des grandeurs statistiques proches de la population globale?"
   ]
  },
  {
   "cell_type": "code",
   "execution_count": 147,
   "id": "periodic-trinidad",
   "metadata": {},
   "outputs": [],
   "source": [
    "# Oui"
   ]
  },
  {
   "cell_type": "markdown",
   "id": "generous-emphasis",
   "metadata": {},
   "source": [
    "### La longueur moyenne estimée des planches de skateboard"
   ]
  },
  {
   "cell_type": "markdown",
   "id": "white-retirement",
   "metadata": {},
   "source": [
    "Imaginons que nous n'ayons pas à notre disposition la population totale.\n",
    "Donner la valeur moyenne des planches de skateboard estimée à partir de l'échantillon précédent. Donner une incertitude avec un intervalle de confiance à 99,7%. Pour ce faire vous aurez besoin de calculer la standard error que nous appelerons \"ste_sample_500\"."
   ]
  },
  {
   "cell_type": "code",
   "execution_count": 148,
   "id": "binary-edition",
   "metadata": {},
   "outputs": [
    {
     "data": {
      "text/plain": [
       "1.0753239728435402"
      ]
     },
     "execution_count": 148,
     "metadata": {},
     "output_type": "execute_result"
    }
   ],
   "source": [
    "ste_sample_500 = std_sample_500 / np.sqrt(N)\n",
    "ste_sample_500"
   ]
  },
  {
   "cell_type": "code",
   "execution_count": 149,
   "id": "cloudy-algeria",
   "metadata": {},
   "outputs": [
    {
     "data": {
      "text/plain": [
       "\"La longueur moyenne d'un skateboard à Bordeaux est de 87.94cm +- 3.23cm pour un intervalle de confiance de 99,7%\""
      ]
     },
     "execution_count": 149,
     "metadata": {},
     "output_type": "execute_result"
    }
   ],
   "source": [
    "f\"La longueur moyenne d'un skateboard à Bordeaux est de {np.round(mean_sample_500, 2)}cm +- {np.round((ste_sample_500 * 3), 2)}cm pour un intervalle de confiance de 99,7%\""
   ]
  },
  {
   "cell_type": "markdown",
   "id": "liquid-madrid",
   "metadata": {},
   "source": [
    "La valeur réelle de la moyenne est elle bien en accord avec l'estimation? "
   ]
  },
  {
   "cell_type": "markdown",
   "id": "minor-wallpaper",
   "metadata": {},
   "source": [
    "Oui La moyenne de la population totale est incluse dans l'intervalle de confiance précédent. "
   ]
  },
  {
   "cell_type": "markdown",
   "id": "annual-favor",
   "metadata": {},
   "source": [
    "## Les grandeurs statistiques de échantillon \"Les quais\""
   ]
  },
  {
   "cell_type": "markdown",
   "id": "subject-boulder",
   "metadata": {},
   "source": [
    "Nous nous interessons maintenant uniquement à un autre échantillon de cette population : Les skateboards du skatepark des quais afin de voir, encore une fois si nous pouvons extrapoler des informations sur la population globale. Encore une fois nous allons simuler cet échantillon pour les besoins de l'exercice."
   ]
  },
  {
   "cell_type": "code",
   "execution_count": 150,
   "id": "based-borough",
   "metadata": {
    "scrolled": true
   },
   "outputs": [
    {
     "data": {
      "image/png": "[encoded data removed]",
      "text/plain": [
       "<Figure size 432x288 with 1 Axes>"
      ]
     },
     "metadata": {
      "needs_background": "light"
     },
     "output_type": "display_data"
    }
   ],
   "source": [
    "n = 50\n",
    "sample = np.random.choice(data, n, replace=True)\n",
    "plt.hist(sample, bins=15, density=True, alpha=0.6, color='b');"
   ]
  },
  {
   "cell_type": "markdown",
   "id": "level-asbestos",
   "metadata": {},
   "source": [
    "Encore une fois, imaginons que nous n'ayons pas à notre disposition la population totale.\n",
    "Donner la valeur moyenne des planches de skateboard estimée à partir de l'échantillon précédent. Donner une incertitude avec un intervalle de confiance à 99,7%. Pour ce faire vous aurez besoin de calculer la standard error que nous appelerons \"ste_sample_50\"."
   ]
  },
  {
   "cell_type": "code",
   "execution_count": 151,
   "id": "cloudy-saturn",
   "metadata": {},
   "outputs": [
    {
     "data": {
      "text/plain": [
       "50"
      ]
     },
     "execution_count": 151,
     "metadata": {},
     "output_type": "execute_result"
    }
   ],
   "source": [
    "N = len(sample)\n",
    "N"
   ]
  },
  {
   "cell_type": "code",
   "execution_count": 152,
   "id": "coordinate-whale",
   "metadata": {},
   "outputs": [
    {
     "data": {
      "text/plain": [
       "84.57941573146722"
      ]
     },
     "execution_count": 152,
     "metadata": {},
     "output_type": "execute_result"
    }
   ],
   "source": [
    "mean_sample_50 = sample.mean()\n",
    "mean_sample_50"
   ]
  },
  {
   "cell_type": "code",
   "execution_count": 153,
   "id": "indonesian-supervision",
   "metadata": {},
   "outputs": [
    {
     "data": {
      "text/plain": [
       "22.612551529583964"
      ]
     },
     "execution_count": 153,
     "metadata": {},
     "output_type": "execute_result"
    }
   ],
   "source": [
    "std_sample_50 = sample.std()\n",
    "std_sample_50"
   ]
  },
  {
   "cell_type": "code",
   "execution_count": 154,
   "id": "monetary-dakota",
   "metadata": {},
   "outputs": [
    {
     "data": {
      "text/plain": [
       "3.1978977052998117"
      ]
     },
     "execution_count": 154,
     "metadata": {},
     "output_type": "execute_result"
    }
   ],
   "source": [
    "ste_sample_50 = std_sample_50 / np.sqrt(N)\n",
    "ste_sample_50"
   ]
  },
  {
   "cell_type": "markdown",
   "id": "dietary-richards",
   "metadata": {},
   "source": [
    "La valeur réelle de la moyenne est elle bien en accord avec l'estimation? \n",
    "Si oui, quelle est la meilleure estimation de la moyenne totale: l'estimation issue de l'échantillon de Darwin ou de celle des quais ? Pourquoi?"
   ]
  },
  {
   "cell_type": "code",
   "execution_count": 155,
   "id": "static-fitness",
   "metadata": {},
   "outputs": [
    {
     "data": {
      "text/plain": [
       "\"La longueur moyenne d'un skateboard à Bordeaux est de 84.58cm +- 9.59cm pour un intervalle de confiance de 99,7%\""
      ]
     },
     "execution_count": 155,
     "metadata": {},
     "output_type": "execute_result"
    }
   ],
   "source": [
    "f\"La longueur moyenne d'un skateboard à Bordeaux est de {np.round(mean_sample_50, 2)}cm +- {np.round((ste_sample_50 * 3), 2)}cm pour un intervalle de confiance de 99,7%\""
   ]
  },
  {
   "cell_type": "markdown",
   "id": "promotional-mapping",
   "metadata": {},
   "source": [
    "## Evolution de la standard error en fonction de la taille de l'échantillon"
   ]
  },
  {
   "cell_type": "markdown",
   "id": "illegal-reason",
   "metadata": {},
   "source": [
    "Dans cette partie nous allons illustrer les variations de la l'erreur standard en fonction de la taille de l'échantillon"
   ]
  },
  {
   "cell_type": "markdown",
   "id": "sealed-racing",
   "metadata": {},
   "source": [
    "Prenons 1000 échantillons indépendants. Chaque échantillon contient n = 500 mesures. Pour chacun de ces échantillons, calculons la moyenne de l'échantillon. Nous stockons toutes ces moyennes dans une liste \"means\" :"
   ]
  },
  {
   "cell_type": "code",
   "execution_count": 156,
   "id": "scientific-portsmouth",
   "metadata": {},
   "outputs": [],
   "source": [
    "n = 500\n",
    "means = []\n",
    "for i in range(1000):\n",
    "    sample = np.random.choice(data, n, replace=True)\n",
    "    means.append(sample.mean())"
   ]
  },
  {
   "cell_type": "markdown",
   "id": "connected-stocks",
   "metadata": {},
   "source": [
    "Visualiser la distribution de cette population de moyennes avec un histogramme"
   ]
  },
  {
   "cell_type": "code",
   "execution_count": 157,
   "id": "blind-direction",
   "metadata": {},
   "outputs": [
    {
     "data": {
      "image/png": "[encoded data removed]",
      "text/plain": [
       "<Figure size 432x288 with 1 Axes>"
      ]
     },
     "metadata": {
      "needs_background": "light"
     },
     "output_type": "display_data"
    }
   ],
   "source": [
    "plt.hist(means, bins=50);"
   ]
  },
  {
   "cell_type": "markdown",
   "id": "incorporated-logistics",
   "metadata": {},
   "source": [
    "Calculer la moyenne et l'écart type de cette population de moyennes que nous appelerons respectivement \"mean_est_500\" et \"ste_est_500\"."
   ]
  },
  {
   "cell_type": "code",
   "execution_count": 158,
   "id": "received-sharing",
   "metadata": {},
   "outputs": [],
   "source": [
    "means = np.array(means)"
   ]
  },
  {
   "cell_type": "code",
   "execution_count": 159,
   "id": "decimal-northern",
   "metadata": {},
   "outputs": [
    {
     "data": {
      "text/plain": [
       "86.99599304953782"
      ]
     },
     "execution_count": 159,
     "metadata": {},
     "output_type": "execute_result"
    }
   ],
   "source": [
    "mean_est_500 = means.mean()\n",
    "mean_est_500"
   ]
  },
  {
   "cell_type": "code",
   "execution_count": 160,
   "id": "recorded-minimum",
   "metadata": {},
   "outputs": [
    {
     "data": {
      "text/plain": [
       "1.0292794315971965"
      ]
     },
     "execution_count": 160,
     "metadata": {},
     "output_type": "execute_result"
    }
   ],
   "source": [
    "ste_est_500 = means.std()\n",
    "ste_est_500"
   ]
  },
  {
   "cell_type": "markdown",
   "id": "fiscal-track",
   "metadata": {},
   "source": [
    "Comparer les valeurs (\"mean_sample_500\", \"ste_sample_500\") et (\"mean_est_500\" et \"ste_est_500\")"
   ]
  },
  {
   "cell_type": "code",
   "execution_count": 161,
   "id": "bound-centre",
   "metadata": {},
   "outputs": [],
   "source": [
    "# votre réponse"
   ]
  },
  {
   "cell_type": "markdown",
   "id": "forward-staff",
   "metadata": {},
   "source": [
    "Répéter l'opération avec un n=50 :"
   ]
  },
  {
   "cell_type": "code",
   "execution_count": 162,
   "id": "integral-sequence",
   "metadata": {},
   "outputs": [],
   "source": [
    "n = 50\n",
    "means = []\n",
    "for i in range(1000):\n",
    "    sample = np.random.choice(data, n, replace=True)\n",
    "    means.append(sample.mean())"
   ]
  },
  {
   "cell_type": "markdown",
   "id": "given-anatomy",
   "metadata": {},
   "source": [
    "Calculer la moyenne et l'écart type de cette population de moyennes que nous appelerons respectivement \"mean_est_50\" et \"ste_est_50\"."
   ]
  },
  {
   "cell_type": "code",
   "execution_count": 163,
   "id": "sublime-collins",
   "metadata": {},
   "outputs": [],
   "source": [
    "means = np.array(means)"
   ]
  },
  {
   "cell_type": "code",
   "execution_count": 164,
   "id": "boxed-pipeline",
   "metadata": {},
   "outputs": [
    {
     "data": {
      "text/plain": [
       "86.93438380261871"
      ]
     },
     "execution_count": 164,
     "metadata": {},
     "output_type": "execute_result"
    }
   ],
   "source": [
    "mean_est_50 = means.mean()\n",
    "mean_est_50"
   ]
  },
  {
   "cell_type": "code",
   "execution_count": 165,
   "id": "covered-franchise",
   "metadata": {},
   "outputs": [
    {
     "data": {
      "text/plain": [
       "3.2444278609473365"
      ]
     },
     "execution_count": 165,
     "metadata": {},
     "output_type": "execute_result"
    }
   ],
   "source": [
    "ste_est_50 = means.std()\n",
    "ste_est_50"
   ]
  },
  {
   "cell_type": "markdown",
   "id": "fallen-width",
   "metadata": {},
   "source": [
    "Comparer les valeurs (\"mean_sample_50\", \"ste_sample_50\") et (\"mean_est_50\" et \"ste_est_50\")"
   ]
  },
  {
   "cell_type": "code",
   "execution_count": 166,
   "id": "former-terry",
   "metadata": {},
   "outputs": [],
   "source": [
    "# votre réponse"
   ]
  },
  {
   "cell_type": "markdown",
   "id": "behind-group",
   "metadata": {},
   "source": [
    "## Evolution de la standar error en fonction de la taille de l'échantillon (optionnel)"
   ]
  },
  {
   "cell_type": "markdown",
   "id": "burning-roulette",
   "metadata": {},
   "source": [
    "Nous constatons l'incertitude (et donc la ste) de notre estimation varie avec la taille n de l'échantillon. Et nous avons vu qu'il exite deux manière de retrouver cette ste (la méthode \"$sample$\" et la méthode \"$est$\")."
   ]
  },
  {
   "cell_type": "markdown",
   "id": "behavioral-chess",
   "metadata": {},
   "source": [
    "Définisser la ste_est et la ste_sample pour chaque valeur n de la liste suivante :"
   ]
  },
  {
   "cell_type": "code",
   "execution_count": 167,
   "id": "mature-maldives",
   "metadata": {},
   "outputs": [],
   "source": [
    "sample_lens = np.arange(50, 500, 1)"
   ]
  },
  {
   "cell_type": "code",
   "execution_count": 168,
   "id": "humanitarian-hawaiian",
   "metadata": {},
   "outputs": [],
   "source": [
    "def define_ste_sample(ni):\n",
    "    sample = np.random.choice(data, ni, replace=True)\n",
    "    return sample.std() / np.sqrt(ni)"
   ]
  },
  {
   "cell_type": "code",
   "execution_count": 169,
   "id": "personalized-stocks",
   "metadata": {},
   "outputs": [],
   "source": [
    "def define_ste_fit(ni):\n",
    "    return data.std() / np.sqrt(ni)"
   ]
  },
  {
   "cell_type": "code",
   "execution_count": 170,
   "id": "covered-logic",
   "metadata": {},
   "outputs": [],
   "source": [
    "def define_ste_est(ni):\n",
    "    means = []\n",
    "    for i in range(1000):\n",
    "        sample = np.random.choice(data, ni, replace=True)\n",
    "        means.append(sample.mean())\n",
    "    return np.array(means).std()"
   ]
  },
  {
   "cell_type": "code",
   "execution_count": 171,
   "id": "median-blast",
   "metadata": {},
   "outputs": [],
   "source": [
    "ste_samples = [define_ste_sample(ni) for ni in sample_lens] \n",
    "ste_ests = [define_ste_est(ni) for ni in sample_lens] \n",
    "ste_fits = [define_ste_fit(ni) for ni in sample_lens] "
   ]
  },
  {
   "cell_type": "code",
   "execution_count": 175,
   "id": "subjective-aquarium",
   "metadata": {},
   "outputs": [
    {
     "data": {
      "text/plain": [
       "<matplotlib.legend.Legend at 0x17563ffa0>"
      ]
     },
     "execution_count": 175,
     "metadata": {},
     "output_type": "execute_result"
    },
    {
     "data": {
      "image/png": "[encoded data removed]",
      "text/plain": [
       "<Figure size 432x288 with 1 Axes>"
      ]
     },
     "metadata": {
      "needs_background": "light"
     },
     "output_type": "display_data"
    }
   ],
   "source": [
    "plt.plot(sample_lens, ste_ests, label=\"Est\")\n",
    "plt.plot(sample_lens, ste_samples, label=\"Sample\")\n",
    "plt.plot(sample_lens, ste_fits, label=\"Fit\")\n",
    "plt.xlabel(\"n\")\n",
    "plt.ylabel(\"ste (cm)\")\n",
    "plt.legend()"
   ]
  },
  {
   "cell_type": "markdown",
   "id": "civic-airplane",
   "metadata": {},
   "source": [
    "En tracant ces $ste$ en fonction des $n$ précédants vous devriez trouver le résultat suivant :"
   ]
  },
  {
   "cell_type": "markdown",
   "id": "entertaining-berry",
   "metadata": {},
   "source": [
    "<img src=\"ste_func_n.png\">"
   ]
  },
  {
   "cell_type": "markdown",
   "id": "settled-barrel",
   "metadata": {},
   "source": [
    "Pour quelle valeur de $n$ trouve t'on une $ste = 1.5 cm$ (et donc une $incertitude = \\pm 3cm $ avec in intervalle de confiance de 95%)?"
   ]
  },
  {
   "cell_type": "code",
   "execution_count": 176,
   "id": "former-nicholas",
   "metadata": {},
   "outputs": [
    {
     "data": {
      "text/plain": [
       "236.58804146147773"
      ]
     },
     "execution_count": 176,
     "metadata": {},
     "output_type": "execute_result"
    }
   ],
   "source": [
    "N = (std_tot / 1.5)**2\n",
    "N"
   ]
  },
  {
   "cell_type": "code",
   "execution_count": null,
   "id": "documented-advertiser",
   "metadata": {},
   "outputs": [],
   "source": []
  }
 ],
 "metadata": {
  "kernelspec": {
   "display_name": "Python 3",
   "language": "python",
   "name": "python3"
  },
  "language_info": {
   "codemirror_mode": {
    "name": "ipython",
    "version": 3
   },
   "file_extension": ".py",
   "mimetype": "text/x-python",
   "name": "python",
   "nbconvert_exporter": "python",
   "pygments_lexer": "ipython3",
   "version": "3.8.6"
  },
  "toc": {
   "base_numbering": 1,
   "nav_menu": {},
   "number_sections": true,
   "sideBar": true,
   "skip_h1_title": false,
   "title_cell": "Table of Contents",
   "title_sidebar": "Contents",
   "toc_cell": false,
   "toc_position": {},
   "toc_section_display": true,
   "toc_window_display": false
  }
 },
 "nbformat": 4,
 "nbformat_minor": 5
}
