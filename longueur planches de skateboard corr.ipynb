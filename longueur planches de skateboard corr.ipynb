{
 "cells": [
  {
   "cell_type": "markdown",
   "id": "binary-score",
   "metadata": {},
   "source": [
    "# longueur des planches de skateboard"
   ]
  },
  {
   "cell_type": "code",
   "execution_count": 4,
   "id": "renewable-township",
   "metadata": {},
   "outputs": [],
   "source": [
    "import numpy as np\n",
    "import matplotlib.pyplot as plt\n",
    "from scipy.stats import norm"
   ]
  },
  {
   "cell_type": "markdown",
   "id": "surgical-cylinder",
   "metadata": {},
   "source": [
    "## Le dataset "
   ]
  },
  {
   "cell_type": "code",
   "execution_count": 5,
   "id": "applicable-interaction",
   "metadata": {
    "scrolled": true
   },
   "outputs": [],
   "source": [
    "# Générer un dataset aléatoire de mesures de longueurs de planches\n",
    "data1 = np.random.normal(75, 10, 7000)  # skateboard\n",
    "data2 = np.random.normal(115, 20, 3000) # longboard\n",
    "\n",
    "#fig, (ax1, ax2) = plt.subplots(1, 2, figsize=(9, 3), sharey=True)\n",
    "#ax1.hist(data1, bins=100, density=True, alpha=0.6, color='b')\n",
    "#ax2.hist(data2, bins=100, density=True, alpha=0.6, color='b');\n"
   ]
  },
  {
   "cell_type": "code",
   "execution_count": 6,
   "id": "chemical-ability",
   "metadata": {},
   "outputs": [
    {
     "data": {
      "text/plain": [
       "10000"
      ]
     },
     "execution_count": 6,
     "metadata": {},
     "output_type": "execute_result"
    }
   ],
   "source": [
    "data = np.concatenate((data1,data2))\n",
    "len(data)"
   ]
  },
  {
   "cell_type": "code",
   "execution_count": 7,
   "id": "fundamental-withdrawal",
   "metadata": {
    "scrolled": false
   },
   "outputs": [
    {
     "data": {
      "image/png": "[encoded data removed]",
      "text/plain": [
       "<Figure size 432x288 with 1 Axes>"
      ]
     },
     "metadata": {
      "needs_background": "light"
     },
     "output_type": "display_data"
    }
   ],
   "source": [
    "plt.hist(data, bins=100, density=True, alpha=0.6, color='b');"
   ]
  },
  {
   "cell_type": "code",
   "execution_count": 8,
   "id": "civilian-laser",
   "metadata": {},
   "outputs": [
    {
     "data": {
      "text/plain": [
       "86.96395804433311"
      ]
     },
     "execution_count": 8,
     "metadata": {},
     "output_type": "execute_result"
    }
   ],
   "source": [
    "data.mean()"
   ]
  },
  {
   "cell_type": "code",
   "execution_count": 9,
   "id": "animal-resource",
   "metadata": {},
   "outputs": [
    {
     "data": {
      "text/plain": [
       "22.9053850576514"
      ]
     },
     "execution_count": 9,
     "metadata": {},
     "output_type": "execute_result"
    }
   ],
   "source": [
    "data.std()"
   ]
  },
  {
   "cell_type": "code",
   "execution_count": 10,
   "id": "emerging-comedy",
   "metadata": {},
   "outputs": [],
   "source": [
    "n = 500"
   ]
  },
  {
   "cell_type": "code",
   "execution_count": 11,
   "id": "falling-daniel",
   "metadata": {},
   "outputs": [],
   "source": [
    "sample = np.random.choice(data, n, replace=True)"
   ]
  },
  {
   "cell_type": "code",
   "execution_count": 12,
   "id": "mysterious-insider",
   "metadata": {
    "scrolled": true
   },
   "outputs": [
    {
     "data": {
      "image/png": "[encoded data removed]",
      "text/plain": [
       "<Figure size 432x288 with 1 Axes>"
      ]
     },
     "metadata": {
      "needs_background": "light"
     },
     "output_type": "display_data"
    }
   ],
   "source": [
    "plt.hist(sample, bins=20, density=True, alpha=0.6, color='b');"
   ]
  },
  {
   "cell_type": "code",
   "execution_count": 13,
   "id": "funded-selling",
   "metadata": {},
   "outputs": [
    {
     "data": {
      "text/plain": [
       "87.70412050414286"
      ]
     },
     "execution_count": 13,
     "metadata": {},
     "output_type": "execute_result"
    }
   ],
   "source": [
    "sample.mean()"
   ]
  },
  {
   "cell_type": "code",
   "execution_count": 14,
   "id": "separate-rotation",
   "metadata": {},
   "outputs": [
    {
     "data": {
      "text/plain": [
       "23.018351891830118"
      ]
     },
     "execution_count": 14,
     "metadata": {},
     "output_type": "execute_result"
    }
   ],
   "source": [
    "sample.std()"
   ]
  },
  {
   "cell_type": "code",
   "execution_count": 15,
   "id": "experienced-excess",
   "metadata": {},
   "outputs": [
    {
     "data": {
      "text/plain": [
       "1.0294119912028605"
      ]
     },
     "execution_count": 15,
     "metadata": {},
     "output_type": "execute_result"
    }
   ],
   "source": [
    "ste_mod = sample.std() / np.sqrt(n)\n",
    "ste_mod"
   ]
  },
  {
   "cell_type": "code",
   "execution_count": 16,
   "id": "grave-translation",
   "metadata": {},
   "outputs": [],
   "source": [
    "means = []\n",
    "for i in range(1000):\n",
    "    sample = np.random.choice(data, n, replace=True)\n",
    "    means.append(sample.mean())"
   ]
  },
  {
   "cell_type": "code",
   "execution_count": 17,
   "id": "competent-vietnamese",
   "metadata": {},
   "outputs": [
    {
     "data": {
      "text/plain": [
       "1.0086345645751496"
      ]
     },
     "execution_count": 17,
     "metadata": {},
     "output_type": "execute_result"
    }
   ],
   "source": [
    "ste_est = np.array(means).std()\n",
    "ste_est"
   ]
  },
  {
   "cell_type": "code",
   "execution_count": 18,
   "id": "given-zambia",
   "metadata": {},
   "outputs": [
    {
     "data": {
      "text/plain": [
       "[<matplotlib.lines.Line2D at 0x1765eea90>]"
      ]
     },
     "execution_count": 18,
     "metadata": {},
     "output_type": "execute_result"
    },
    {
     "data": {
      "image/png": "[encoded data removed]",
      "text/plain": [
       "<Figure size 432x288 with 1 Axes>"
      ]
     },
     "metadata": {
      "needs_background": "light"
     },
     "output_type": "display_data"
    }
   ],
   "source": [
    "N = len(means)\n",
    "num_bins = 50\n",
    "plt.hist(means, bins=num_bins, density=True, alpha=0.6, color='b')\n",
    "\n",
    "means = np.array(means)\n",
    "x = np.linspace(means.min(), means.max(), 100)\n",
    "bin_width = (means.max() - means.min()) / num_bins\n",
    "p = norm.pdf(x, means.mean(), means.std()) #* N * bin_width\n",
    "plt.plot(x, p, 'k', linewidth=2)"
   ]
  },
  {
   "cell_type": "code",
   "execution_count": 19,
   "id": "worst-tuning",
   "metadata": {},
   "outputs": [],
   "source": [
    "def define_ste_est(n): \n",
    "    means = []\n",
    "    for i in range(1000):\n",
    "        sample = np.random.choice(data, n, replace=True)\n",
    "        means.append(sample.mean())\n",
    "    return [np.array(means).std()]"
   ]
  },
  {
   "cell_type": "code",
   "execution_count": 20,
   "id": "pregnant-afternoon",
   "metadata": {},
   "outputs": [],
   "source": [
    "def define_ste_sample(n):\n",
    "    sample = np.random.choice(data, n, replace=True)\n",
    "    return sample.std() / np.sqrt(n)"
   ]
  },
  {
   "cell_type": "code",
   "execution_count": 21,
   "id": "liberal-blank",
   "metadata": {},
   "outputs": [],
   "source": [
    "def define_ste_fit(n):\n",
    "    sample = np.random.choice(data, n, replace=True)\n",
    "    return data.std() / np.sqrt(n)"
   ]
  },
  {
   "cell_type": "code",
   "execution_count": 22,
   "id": "considered-humor",
   "metadata": {},
   "outputs": [],
   "source": [
    "sample_lens = np.arange(50, 500, 1)\n",
    "ste_ests = [define_ste_est(n) for n in sample_lens]\n",
    "ste_samples = [define_ste_sample(n) for n in sample_lens]\n",
    "ste_fits = [define_ste_fit(n) for n in sample_lens]"
   ]
  },
  {
   "cell_type": "code",
   "execution_count": 26,
   "id": "loose-fleet",
   "metadata": {},
   "outputs": [
    {
     "data": {
      "text/plain": [
       "<matplotlib.legend.Legend at 0x17673fc70>"
      ]
     },
     "execution_count": 26,
     "metadata": {},
     "output_type": "execute_result"
    },
    {
     "data": {
      "image/png": "[encoded data removed]",
      "text/plain": [
       "<Figure size 432x288 with 1 Axes>"
      ]
     },
     "metadata": {
      "needs_background": "light"
     },
     "output_type": "display_data"
    }
   ],
   "source": [
    "plt.plot(sample_lens, ste_ests, label = \"Est\")\n",
    "plt.plot(sample_lens, ste_samples, label = \"Sample\")\n",
    "plt.plot(sample_lens, ste_fits, label = \"Fit\")\n",
    "plt.xlabel('n')\n",
    "plt.ylabel('ste (cm)')\n",
    "plt.legend()\n"
   ]
  },
  {
   "cell_type": "code",
   "execution_count": null,
   "id": "written-currency",
   "metadata": {},
   "outputs": [],
   "source": []
  }
 ],
 "metadata": {
  "kernelspec": {
   "display_name": "Python 3",
   "language": "python",
   "name": "python3"
  },
  "language_info": {
   "codemirror_mode": {
    "name": "ipython",
    "version": 3
   },
   "file_extension": ".py",
   "mimetype": "text/x-python",
   "name": "python",
   "nbconvert_exporter": "python",
   "pygments_lexer": "ipython3",
   "version": "3.8.6"
  },
  "toc": {
   "base_numbering": 1,
   "nav_menu": {},
   "number_sections": true,
   "sideBar": true,
   "skip_h1_title": false,
   "title_cell": "Table of Contents",
   "title_sidebar": "Contents",
   "toc_cell": false,
   "toc_position": {},
   "toc_section_display": true,
   "toc_window_display": false
  }
 },
 "nbformat": 4,
 "nbformat_minor": 5
}
